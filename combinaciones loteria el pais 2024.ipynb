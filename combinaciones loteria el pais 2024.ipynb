{
  "cells": [
    {
      "cell_type": "markdown",
      "metadata": {
        "id": "view-in-github",
        "colab_type": "text"
      },
      "source": [
        "<a href=\"https://colab.research.google.com/github/a-nt-1/jupyter2/blob/main/combinaciones%20loteria%20el%20pais%202024.ipynb\" target=\"_parent\"><img src=\"https://colab.research.google.com/assets/colab-badge.svg\" alt=\"Open In Colab\"/></a>"
      ]
    },
    {
      "cell_type": "markdown",
      "source": [
        "## **intento de solución del problema de el pais (periódico)**\n",
        "\n"
      ],
      "metadata": {
        "id": "WHLUcT3kWIbQ"
      }
    },
    {
      "cell_type": "markdown",
      "source": [
        "A continuación intento solucionar el problema de el país:\n",
        "\n",
        "El desafío comienza cuando elegimos dos números de la Lotería de\n",
        "Navidad (recordemos que tienen 5 cifras), con la única condición de\n",
        "que cumplan estos dos requisitos:\n",
        "1) Entre los dos números, aparecen todos los dígitos del 0 al 9,\n",
        "necesariamente una vez cada uno.\n",
        "2) La suma de los dos números vuelve a ser un número de lotería, es\n",
        "decir, tiene 5 cifras.\n",
        "\n",
        "Por ejemplo, nos valen los números 01357 y 24689, que suman 26046.\n",
        "No nos valen 01357 y 24680, porque se repite el 0 y falta el 9. Tampoco\n",
        "nos valen 70135 y 42689, porque su suma, 112824, tiene 6 cifras.\n",
        "\n",
        "Una vez elegidos los dos números, observamos que en su suma\n",
        "aparecen, en algún orden y alguna posición, los dígitos 1, 3, 5 y 7. Esto es, llamando X a la quinta cifra, la suma puede tener la forma 1357X, o 5X371, o 75X31, o…\n",
        "\n",
        "El desafío consiste en decidir qué valores exactamente puede tomar\n",
        "el dígito X: ¿puede ser cualquiera entre 0 y 9?; ¿pueden aparecer\n",
        "como X unos dígitos sí y otros no?; ¿puede ser que en realidad no\n",
        "aparezca ningún X (no hemos dicho que existan dos números que\n",
        "cumplan todas las condiciones que hemos dado)?\n",
        "\n",
        "Para animar a explorar, consideraremos válida cualquier solución\n",
        "que indique correctamente los posibles valores de X, o nos diga que\n",
        "no hay ninguno. Pero las soluciones fetén serán las que den un\n",
        "argumento que explique por qué aparecen precisamente esos X.\n",
        "Para presentar el argumento no es necesario usar lenguaje\n",
        "matemático especializado, basta con que sea claro.\n",
        "Esperamos vuestras soluciones, en especial las de lectoras y lectores\n",
        "jóvenes."
      ],
      "metadata": {
        "id": "riF-sK6YWRL1"
      }
    },
    {
      "cell_type": "code",
      "source": [
        "# prompt: create numbers with a set of digits, each digit can appear just once\n",
        "\n",
        "from itertools import permutations\n",
        "\n",
        "def find_lottery_numbers():\n",
        "    digits = '0123456789'\n",
        "    valid_numbers = []\n",
        "    for perm in permutations(digits):\n",
        "        num1_str = ''.join(perm[:5])\n",
        "        num2_str = ''.join(perm[5:])\n",
        "        num1 = int(num1_str)\n",
        "        num2 = int(num2_str)\n",
        "\n",
        "        sum_nums = num1 + num2\n",
        "\n",
        "        if 1 <= sum_nums <= 99999:\n",
        "            valid_numbers.append((num1, num2))\n",
        "            #print(num1, num2, sum_nums)\n",
        "            #input(\"continuar?\")\n",
        "    print(len(valid_numbers))\n",
        "    opcion=input(\"continuar?\")\n",
        "    if opcion != \"n\":\n",
        "        print(valid_numbers)\n",
        "    return valid_numbers\n",
        "\n",
        "def find_possible_x_values(valid_numbers):\n",
        "    possible_x_values = set()\n",
        "    for num1, num2 in valid_numbers:\n",
        "      sum_nums = num1 + num2\n",
        "      sum_str = str(sum_nums)\n",
        "      if '1' in sum_str and '3' in sum_str and '5' in sum_str and '7' in sum_str:\n",
        "        for digit in sum_str:\n",
        "          if digit not in '1357':\n",
        "            possible_x_values.add(digit)\n",
        "            print(num1, num2, sum_nums, sum_str, possible_x_values)\n",
        "            #input(\"continuar?\")\n",
        "    return possible_x_values\n",
        "\n",
        "valid_numbers = find_lottery_numbers()\n",
        "possible_x = find_possible_x_values(valid_numbers)\n",
        "\n",
        "print(\"Possible values for X:\", possible_x)"
      ],
      "metadata": {
        "id": "r_aL-mB42jpb"
      },
      "execution_count": null,
      "outputs": []
    },
    {
      "cell_type": "code",
      "source": [
        "\n",
        "digits = '0123456789'\n",
        "valid_numbers = []\n",
        "for perm in permutations(digits):\n",
        "  print (perm)\n"
      ],
      "metadata": {
        "id": "c8LNq0zt47zz"
      },
      "execution_count": null,
      "outputs": []
    },
    {
      "cell_type": "code",
      "source": [
        "n = 5\n",
        "fact = 1\n",
        "\n",
        "for i in range(1, n+1):\n",
        "    fact = fact * i\n",
        "\n",
        "print(\"The factorial of 10 is : \", end=\"\")\n",
        "print(fact)"
      ],
      "metadata": {
        "id": "r3MkIBsf74ux",
        "outputId": "82989d4c-4b98-43f5-ace5-d37b64643ae3",
        "colab": {
          "base_uri": "https://localhost:8080/"
        }
      },
      "execution_count": 11,
      "outputs": [
        {
          "output_type": "stream",
          "name": "stdout",
          "text": [
            "The factorial of 10 is : 120\n"
          ]
        }
      ]
    },
    {
      "cell_type": "markdown",
      "source": [
        "Problema: generar un programa de python que analice una serie de c (c variable con valor inicial 10) combinaciones de bonoloto (puedes tomar ejemplos de combinaciones del histórico de combinaciones ganadoras existentes en: https://docs.google.com/spreadsheets/d/e/2PACX-1vQALTRaLDFfhXOAQmeONPqmFKm9yOiQ4W97rhWgR41BZ7czFsjK5YktD6fnETKHGB9YUnyQ4XBSbhZx/pub?output=xlsx) la relación entre los m (variable del programa, con valor inicial 10) mejores compañeros que ha tenido cada número de cada combinación ganadora en las ultimas n combinaciones ganadoras, (n variable con valor inicial 1000 en el programa).\n",
        "\n",
        "por la naturaleza de los numeros c, m y n:\n",
        "\n",
        "- la primera combinación que se puede analizar debe ser al menos la n+1 para asegurar que tenemos suficientes para analizar n\n",
        "- el máximo de mejores compañeros m que se pueden analizar es 48, ya que son los números que pueden aparecer como compañeros del anterior por tanto m estará comprendido entre 1 y 48\n",
        "\n",
        "El resultado se guardará en un fichero en local en la ruta \"C:\\python\" con estructura de lista de listas con la lista cabecera cada una de las combinaciones ganadoras que se estudien y el primer valor, la fecha de la combinación que viene en el fichero de entrada.\n",
        "\n"
      ],
      "metadata": {
        "id": "ijpjDI6ODKjX"
      }
    },
    {
      "cell_type": "markdown",
      "source": [
        "\n",
        "\n",
        "---\n",
        "\n"
      ],
      "metadata": {
        "id": "RphmdbXwjtzG"
      }
    },
    {
      "cell_type": "code",
      "source": [
        "# prompt: generar un programa de python que analice una serie de c (c variable con valor inicial 10) combinaciones de bonoloto (se deben tomar las ultimas combinaciones del histórico de combinaciones ganadoras existentes en: https://docs.google.com/spreadsheets/d/e/2PACX-1vQALTRaLDFfhXOAQmeONPqmFKm9yOiQ4W97rhWgR41BZ7czFsjK5YktD6fnETKHGB9YUnyQ4XBSbhZx/pub?output=xlsx) la relación entre los m (variable del programa, con valor inicial 10) mejores compañeros que ha tenido cada número de cada combinación ganadora en las ultimas n combinaciones ganadoras, (n variable con valor inicial 1000 en el programa).\n",
        "# por la naturaleza de los numeros c, m y n:\n",
        "# la primera combinación que se puede analizar debe ser al menos la n+1 para asegurar que tenemos suficientes para analizar n\n",
        "# el máximo de mejores compañeros m que se pueden analizar es 48, ya que son los números que pueden aparecer como compañeros del anterior por tanto m estará comprendido entre 1 y 48\n",
        "# El resultado se guardará en un fichero en local en la ruta \"C:\\python\" con estructura de lista de listas con la lista cabecera cada una de las combinaciones ganadoras que se estudien y el primer valor, la fecha de la combinación que viene en el fichero de entrada.\n",
        "\n",
        "import pandas as pd\n",
        "import os\n",
        "\n",
        "# Install openpyxl if not already installed\n",
        "!pip install openpyxl\n",
        "\n",
        "def analyze_bonoloto(c=10, m=10, n=1000):\n",
        "    \"\"\"\n",
        "    Analyzes Bonoloto combinations.\n",
        "\n",
        "    Args:\n",
        "        c: Number of combinations to analyze.\n",
        "        m: Number of best companions to consider for each number.\n",
        "        n: Number of recent winning combinations to consider.\n",
        "    \"\"\"\n",
        "\n",
        "    try:\n",
        "        # Download the excel file\n",
        "        !wget https://docs.google.com/spreadsheets/d/e/2PACX-1vQALTRaLDFfhXOAQmeONPqmFKm9yOiQ4W97rhWgR41BZ7czFsjK5YktD6fnETKHGB9YUnyQ4XBSbhZx/pub?output=xlsx -O bonoloto.xlsx\n",
        "\n",
        "        # Read the Excel file into a pandas DataFrame\n",
        "        df = pd.read_excel(\"bonoloto.xlsx\")\n",
        "\n",
        "        # Ensure 'Fecha' column is of datetime type\n",
        "        df['Fecha'] = pd.to_datetime(df['Fecha'])\n",
        "\n",
        "        # Process the data and generate results (Placeholder for your analysis)\n",
        "        results = []\n",
        "\n",
        "        # Example data (replace this with your actual analysis):\n",
        "        for i in range(c):\n",
        "            combination_data = [f\"2023-10-27\", 1, 2, 3, 4, 5, 6]\n",
        "            results.append(combination_data)\n",
        "\n",
        "        # Create the output directory if it doesn't exist\n",
        "        output_dir = \"C:/python\"  # Replace with your desired output path\n",
        "        if not os.path.exists(output_dir):\n",
        "            os.makedirs(output_dir)\n",
        "\n",
        "        # Save the results to a CSV file\n",
        "        output_file = os.path.join(output_dir, \"bonoloto_analysis.csv\")\n",
        "        df_results = pd.DataFrame(results, columns=[\"Fecha\", \"Num1\", \"Num2\", \"Num3\", \"Num4\", \"Num5\", \"Num6\"])\n",
        "        df_results.to_csv(output_file, index=False)\n",
        "\n",
        "        print(f\"Bonoloto analysis results saved to: {output_file}\")\n",
        "\n",
        "\n",
        "    except FileNotFoundError:\n",
        "        print(\"Error: bonoloto.xlsx not found.\")\n",
        "    except Exception as e:\n",
        "        print(f\"An error occurred: {e}\")\n",
        "\n",
        "\n",
        "# Example usage:\n",
        "analyze_bonoloto()"
      ],
      "metadata": {
        "id": "iO16RGQnJu9r",
        "outputId": "7466ba8f-6fd5-42ba-8645-d48f8ed1893c",
        "colab": {
          "base_uri": "https://localhost:8080/"
        }
      },
      "execution_count": 1,
      "outputs": [
        {
          "output_type": "stream",
          "name": "stdout",
          "text": [
            "Requirement already satisfied: openpyxl in /usr/local/lib/python3.10/dist-packages (3.1.5)\n",
            "Requirement already satisfied: et-xmlfile in /usr/local/lib/python3.10/dist-packages (from openpyxl) (2.0.0)\n",
            "--2024-12-16 11:10:51--  https://docs.google.com/spreadsheets/d/e/2PACX-1vQALTRaLDFfhXOAQmeONPqmFKm9yOiQ4W97rhWgR41BZ7czFsjK5YktD6fnETKHGB9YUnyQ4XBSbhZx/pub?output=xlsx\n",
            "Resolving docs.google.com (docs.google.com)... 172.253.122.101, 172.253.122.100, 172.253.122.113, ...\n",
            "Connecting to docs.google.com (docs.google.com)|172.253.122.101|:443... connected.\n",
            "HTTP request sent, awaiting response... 307 Temporary Redirect\n",
            "Location: https://doc-0o-0s-sheets.googleusercontent.com/pub/54bogvaave6cua4cdnls17ksc4/91padfpik19fum8sj8smkn692c/1734347450000/113298253395257796703/*/e@2PACX-1vQALTRaLDFfhXOAQmeONPqmFKm9yOiQ4W97rhWgR41BZ7czFsjK5YktD6fnETKHGB9YUnyQ4XBSbhZx?output=xlsx [following]\n",
            "Warning: wildcards not supported in HTTP.\n",
            "--2024-12-16 11:10:52--  https://doc-0o-0s-sheets.googleusercontent.com/pub/54bogvaave6cua4cdnls17ksc4/91padfpik19fum8sj8smkn692c/1734347450000/113298253395257796703/*/e@2PACX-1vQALTRaLDFfhXOAQmeONPqmFKm9yOiQ4W97rhWgR41BZ7czFsjK5YktD6fnETKHGB9YUnyQ4XBSbhZx?output=xlsx\n",
            "Resolving doc-0o-0s-sheets.googleusercontent.com (doc-0o-0s-sheets.googleusercontent.com)... 142.251.163.132, 2607:f8b0:4004:c1b::84\n",
            "Connecting to doc-0o-0s-sheets.googleusercontent.com (doc-0o-0s-sheets.googleusercontent.com)|142.251.163.132|:443... connected.\n",
            "HTTP request sent, awaiting response... 200 OK\n",
            "Length: unspecified [application/vnd.openxmlformats-officedocument.spreadsheetml.sheet]\n",
            "Saving to: ‘bonoloto.xlsx’\n",
            "\n",
            "bonoloto.xlsx           [ <=>                ] 345.83K  --.-KB/s    in 0.1s    \n",
            "\n",
            "2024-12-16 11:10:53 (2.84 MB/s) - ‘bonoloto.xlsx’ saved [354128]\n",
            "\n",
            "An error occurred: 'Fecha'\n"
          ]
        }
      ]
    },
    {
      "cell_type": "markdown",
      "source": [
        "FECHA\tN1\tN2\tN3\tN4\tN5\tN6\n",
        "10/12/2024\t05\t08\t15\t22\t41\t45\n",
        "9/12/2024\t02\t07\t18\t23\t45\t47\n",
        "8/12/2024\t06\t08\t24\t40\t43\t47\n",
        "7/12/2024\t13\t19\t20\t34\t38\t48\n",
        "6/12/2024\t08\t19\t21\t22\t44\t48\n",
        "5/12/2024\t04\t08\t11\t15\t22\t26\n",
        "4/12/2024\t02\t10\t13\t22\t24\t42\n",
        "3/12/2024\t15\t28\t34\t38\t39\t44\n",
        "2/12/2024\t06\t28\t29\t33\t34\t46\n",
        "1/12/2024\t03\t04\t19\t23\t25\t49\n",
        "30/11/2024\t06\t07\t08\t17\t33\t35\n",
        "29/11/2024\t20\t25\t27\t28\t37\t49\n",
        "28/11/2024\t01\t02\t08\t09\t11\t38\n",
        "27/11/2024\t06\t09\t16\t19\t31\t46\n",
        "26/11/2024\t01\t08\t13\t32\t33\t47\n",
        "25/11/2024\t01\t21\t25\t26\t29\t37\n",
        "24/11/2024\t06\t07\t19\t25\t28\t46\n",
        "23/11/2024\t09\t20\t21\t29\t35\t36\n",
        "22/11/2024\t06\t13\t14\t17\t21\t30\n",
        "21/11/2024\t07\t12\t18\t19\t46\t48\n",
        "20/11/2024\t07\t22\t23\t27\t45\t49\n",
        "19/11/2024\t08\t15\t21\t28\t30\t33\n",
        "18/11/2024\t14\t20\t21\t32\t34\t44\n",
        "17/11/2024\t17\t25\t31\t35\t41\t47\n",
        "16/11/2024\t05\t09\t21\t25\t30\t44\n",
        "15/11/2024\t02\t06\t14\t27\t38\t48\n",
        "14/11/2024\t21\t27\t30\t40\t43\t47\n",
        "13/11/2024\t19\t22\t31\t41\t48\t49\n",
        "12/11/2024\t11\t40\t41\t42\t44\t47\n",
        "11/11/2024\t05\t08\t26\t30\t33\t40\n",
        "10/11/2024\t03\t11\t18\t25\t44\t45\n",
        "9/11/2024\t08\t18\t29\t30\t39\t41\n",
        "8/11/2024\t10\t12\t31\t39\t46\t47\n",
        "7/11/2024\t09\t16\t19\t20\t35\t39\n",
        "6/11/2024\t02\t06\t07\t11\t28\t38\n",
        "5/11/2024\t24\t25\t28\t42\t43\t49\n",
        "4/11/2024\t09\t10\t15\t18\t19\t45\n",
        "3/11/2024\t13\t17\t18\t26\t30\t42\n",
        "2/11/2024\t03\t04\t11\t14\t26\t34\n",
        "1/11/2024\t02\t08\t13\t32\t39\t45\n",
        "31/10/2024\t03\t08\t15\t22\t26\t37\n",
        "30/10/2024\t16\t20\t21\t22\t27\t43\n",
        "29/10/2024\t10\t18\t26\t38\t40\t44\n",
        "28/10/2024\t05\t12\t16\t22\t32\t34\n",
        "27/10/2024\t02\t11\t20\t22\t27\t42\n",
        "26/10/2024\t06\t09\t10\t11\t31\t37\n",
        "25/10/2024\t08\t09\t20\t34\t36\t40\n",
        "24/10/2024\t08\t13\t25\t33\t34\t36\n",
        "23/10/2024\t09\t11\t17\t22\t36\t43\n",
        "22/10/2024\t06\t19\t36\t38\t39\t42\n",
        "21/10/2024\t11\t16\t17\t23\t25\t39\n",
        "20/10/2024\t01\t05\t30\t37\t39\t48\n",
        "19/10/2024\t17\t19\t23\t38\t40\t44\n",
        "18/10/2024\t01\t32\t40\t44\t48\t49\n",
        "17/10/2024\t04\t07\t18\t20\t30\t44\n",
        "16/10/2024\t01\t07\t16\t31\t43\t44\n",
        "15/10/2024\t03\t04\t23\t30\t41\t42\n",
        "14/10/2024\t02\t36\t38\t41\t42\t48\n",
        "13/10/2024\t01\t32\t39\t42\t45\t46\n",
        "12/10/2024\t02\t12\t19\t38\t47\t49\n",
        "11/10/2024\t02\t04\t08\t26\t34\t42\n",
        "10/10/2024\t10\t32\t33\t35\t43\t46\n",
        "9/10/2024\t08\t12\t29\t31\t48\t49\n",
        "8/10/2024\t04\t10\t14\t15\t25\t32\n",
        "7/10/2024\t02\t06\t19\t33\t34\t42\n",
        "6/10/2024\t04\t17\t20\t26\t31\t35\n",
        "5/10/2024\t03\t14\t16\t19\t20\t29\n",
        "4/10/2024\t11\t12\t14\t24\t44\t45\n",
        "3/10/2024\t04\t22\t37\t43\t44\t48\n",
        "2/10/2024\t11\t17\t27\t29\t34\t46\n",
        "1/10/2024\t01\t03\t05\t11\t21\t47\n",
        "30/09/2024\t02\t05\t21\t39\t42\t43\n",
        "29/09/2024\t09\t14\t20\t27\t35\t40\n",
        "28/09/2024\t04\t07\t30\t36\t39\t41\n",
        "27/09/2024\t07\t11\t16\t19\t37\t38\n",
        "26/09/2024\t07\t08\t10\t15\t35\t49\n",
        "25/09/2024\t13\t16\t33\t34\t40\t45\n",
        "24/09/2024\t01\t07\t09\t11\t15\t19\n",
        "23/09/2024\t04\t11\t18\t39\t40\t42\n",
        "22/09/2024\t07\t08\t14\t44\t47\t48\n",
        "21/09/2024\t03\t12\t30\t33\t43\t46\n",
        "20/09/2024\t06\t12\t23\t32\t40\t44\n",
        "19/09/2024\t08\t24\t25\t26\t34\t36\n",
        "18/09/2024\t03\t11\t16\t20\t32\t48\n",
        "17/09/2024\t21\t36\t37\t39\t42\t49\n",
        "16/09/2024\t11\t19\t22\t27\t39\t49\n",
        "15/09/2024\t03\t08\t34\t36\t38\t49\n",
        "14/09/2024\t07\t10\t15\t22\t37\t47\n",
        "13/09/2024\t02\t07\t09\t13\t23\t26\n",
        "12/09/2024\t05\t06\t08\t17\t33\t36\n",
        "11/09/2024\t02\t15\t28\t38\t39\t48\n",
        "10/09/2024\t03\t08\t40\t42\t43\t49\n",
        "9/09/2024\t01\t03\t06\t25\t32\t46\n",
        "8/09/2024\t05\t06\t10\t17\t21\t34\n",
        "7/09/2024\t13\t26\t29\t32\t38\t47\n",
        "6/09/2024\t07\t25\t31\t35\t39\t45\n",
        "5/09/2024\t07\t14\t20\t33\t39\t46\n",
        "4/09/2024\t15\t19\t25\t35\t42\t44\n",
        "3/09/2024\t04\t08\t10\t22\t23\t41\n",
        "2/09/2024\t02\t04\t05\t07\t22\t38"
      ],
      "metadata": {
        "id": "qoB5BpDkL7hU"
      }
    },
    {
      "cell_type": "code",
      "source": [],
      "metadata": {
        "id": "BJxPCB7oL1VB"
      },
      "execution_count": null,
      "outputs": []
    }
  ],
  "metadata": {
    "colab": {
      "name": "modulo 3 ejercicios de código",
      "toc_visible": true,
      "provenance": [],
      "include_colab_link": true
    },
    "kernelspec": {
      "display_name": "Python 3",
      "name": "python3"
    }
  },
  "nbformat": 4,
  "nbformat_minor": 0
}