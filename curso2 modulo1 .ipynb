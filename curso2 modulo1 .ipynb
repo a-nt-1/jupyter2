{
  "cells": [
    {
      "cell_type": "markdown",
      "metadata": {
        "id": "view-in-github",
        "colab_type": "text"
      },
      "source": [
        "<a href=\"https://colab.research.google.com/github/a-nt-1/jupyter2/blob/main/curso2%20modulo1%20.ipynb\" target=\"_parent\"><img src=\"https://colab.research.google.com/assets/colab-badge.svg\" alt=\"Open In Colab\"/></a>"
      ]
    },
    {
      "cell_type": "markdown",
      "source": [
        "Ejercicio 1\n",
        "\n",
        "Deberás definir la función agregar_entero(lista, entero), la cual recibe como parámetro una lista en el formato anterior y un entero cualquiera. La función deberá agregar el entero en la posición correcta de la lista y luego retornar la lista. Por ejemplo, si se llama la función: agregar_entero(L, 13), siendo L la lista anterior, entonces deberás retornar la lista:"
      ],
      "metadata": {
        "id": "RtwdHXbVmzq4"
      }
    },
    {
      "cell_type": "code",
      "source": [
        "lista = [-40, -1, 1, 5, 16, 72, 100]\n",
        "\n",
        "\n",
        "def agregar_entero(lista, entero):\n",
        "\n",
        "    for i in range(len(lista)):\n",
        "\n",
        "        if entero < lista[i]:\n",
        "\n",
        "            lista.insert(i, entero)\n",
        "            return lista\n",
        "\n",
        "    lista.append(entero)\n",
        "\n",
        "    return lista\n",
        "\n",
        "\n",
        "agregar_entero (lista,101)\n",
        "print(lista)\n",
        "agregar_entero (lista,-101)\n",
        "print(lista)\n",
        "agregar_entero (lista,10)\n",
        "print(lista)\n",
        "agregar_entero (lista,31)\n",
        "print(lista)\n"
      ],
      "metadata": {
        "colab": {
          "base_uri": "https://localhost:8080/"
        },
        "id": "REjdm2LlmxS8",
        "outputId": "9b5cb8f0-141a-4a71-922f-0d95fe3c1933"
      },
      "execution_count": 15,
      "outputs": [
        {
          "output_type": "stream",
          "name": "stdout",
          "text": [
            "[-40, -1, 1, 5, 16, 72, 100, 101]\n",
            "[-101, -40, -1, 1, 5, 16, 72, 100, 101]\n",
            "[-101, -40, -1, 1, 5, 10, 16, 72, 100, 101]\n",
            "[-101, -40, -1, 1, 5, 10, 16, 31, 72, 100, 101]\n"
          ]
        }
      ]
    },
    {
      "cell_type": "markdown",
      "source": [
        "Ejercicio 2\n",
        "\n",
        "Deberás definir la función max_repetido(lista), la cual recibe como parámetro una lista en el formato anterior. La función deberá retornar el número de veces que se repite el entero que se repite más veces dentro de la lista. En el ejemplo anterior, el entero que más se repite es el 1, el cual se repite 7 veces, por lo que tu función deberá retornar 7."
      ],
      "metadata": {
        "id": "Igwy5v2mmy_J"
      }
    },
    {
      "cell_type": "code",
      "source": [
        "#lista = [1,4,6,2,4,3,1,1,3,5,6,7,3,4,5,5,5,3,3,2,1,2,1,1,1,2,6,6]\n",
        "lista = [5, 5, 2, 3, 1, 2, 5, 1, 1, 3, 5, 2, 3, 3, 1, 5, 1, 5, 5, 4, 1, 3, 1, 2, 2, 4, 3, 2, 1, 2, 2, 2, 4, 1, 5, 1, 4, 3, 2, 1, 2, 3, 1, 1, 5, 2, 4, 5, 3, 4, 3, 1, 3, 3, 1, 3, 4, 3, 2, 2, 2, 1, 4, 1, 1, 5, 1, 3, 3, 3, 5, 2, 3, 5, 5, 3, 5, 1, 1, 1, 1, 1, 5, 2, 1, 1, 3, 1, 5, 2, 1, 4, 1, 5, 3, 5, 3, 5, 3, 4]\n",
        "\n",
        "def max_repetido(lista):\n",
        "  lista2=[]\n",
        "  encontrado = False\n",
        "\n",
        "  largo_lista=len(lista)\n",
        "  print(\"largo lista: \",largo_lista)\n",
        "\n",
        "  for i in range (0,largo_lista):\n",
        "    #print(\"largo lista2: \",len(lista2))\n",
        "    for j in range (0,len(lista2)):\n",
        "      #print(j)\n",
        "      if lista[i]==lista2[j][0]:\n",
        "        lista2[j][1]+=1\n",
        "        #print(\"lista2[j][1]: \",lista2[j][1])\n",
        "        encontrado=True\n",
        "        break\n",
        "    if not encontrado:\n",
        "      lista2.append([lista[i],1])\n",
        "    encontrado = False\n",
        "\n",
        "  maxi = 0\n",
        "  maxi_idx = 0\n",
        "  for i in range (0,len(lista2)):\n",
        "    if lista2[i][1]>maxi:\n",
        "      maxi= lista2[i][1]\n",
        "      maxi_idx = i\n",
        "\n",
        "  #print(lista2[maxi_idx][0])\n",
        "  return maxi\n",
        "\n",
        "print(max_repetido(lista))\n",
        "\n",
        "\n",
        "\n",
        "\n",
        "\n",
        "\n",
        "\n",
        "\n"
      ],
      "metadata": {
        "colab": {
          "base_uri": "https://localhost:8080/"
        },
        "id": "hsoAg3LFm46p",
        "outputId": "6ed4f360-dc6b-4e21-eb33-95d66d3aa9e1"
      },
      "execution_count": 74,
      "outputs": [
        {
          "output_type": "stream",
          "name": "stdout",
          "text": [
            "largo lista:  100\n",
            "29\n"
          ]
        }
      ]
    },
    {
      "cell_type": "markdown",
      "source": [
        "Ejercicio 3\n",
        "\n",
        "Deberás definir la función agregar_estudiante(lista, estudiante), la cual recibe como parámetro una lista en el formato anterior y el nombre de un nuevo estudiante. La función deberá agregar al estudiante en la posición correcta (ordenado alfabéticamente por apellido y nombre) de la lista y luego retornar la lista. Por ejemplo, si en la lista anterior se agrega el estudiante 'Eliza Manguera', entonces tu función deberá retornar:"
      ],
      "metadata": {
        "id": "TSMThkCrm5Z1"
      }
    },
    {
      "cell_type": "code",
      "source": [
        "\"\"\"estudiantes = [\n",
        "'Mario Avedaño',\n",
        "'Policarpo Avedaño',\n",
        "'Juan Bodoque',\n",
        "'Juanin Harry',\n",
        "'Mario Hugo',\n",
        "'Dylan Manguera',\n",
        "'Eusebio Manguera'\n",
        "]\"\"\"\n",
        "estudiantes= ['David Avedaño', 'Juanin Avedaño', 'Marcelo Avedaño', 'Mario Avedaño', 'Paulina Avedaño', 'Juan Hugo', 'Juanin Hugo', 'Marcelo Hugo']\n",
        "\n",
        "def agregar_estudiante(lista, estudiante):\n",
        "\n",
        "  nombre, apellido = estudiante.split(' ')\n",
        "\n",
        "  for i in range(0,len(lista)):\n",
        "    nombre_i, apellido_i = lista[i].split(' ')\n",
        "    if apellido < apellido_i:\n",
        "      lista.insert(i, estudiante)\n",
        "      break\n",
        "\n",
        "    elif apellido == apellido_i and nombre < nombre_i:\n",
        "      lista.insert(i, estudiante)\n",
        "      break\n",
        "\n",
        "  return lista\n",
        "agregar_estudiante(estudiantes, 'David Hugo')\n",
        "#agregar_estudiante(estudiantes, 'Eliza Manguera')\n",
        "print(estudiantes)\n",
        "\n"
      ],
      "metadata": {
        "colab": {
          "base_uri": "https://localhost:8080/"
        },
        "id": "RcGrl-_Pm69I",
        "outputId": "2c388b9a-1ee1-482e-a839-0aec69df5b29"
      },
      "execution_count": 78,
      "outputs": [
        {
          "output_type": "stream",
          "name": "stdout",
          "text": [
            "['David Avedaño', 'Juanin Avedaño', 'Marcelo Avedaño', 'Mario Avedaño', 'Paulina Avedaño', 'David Hugo', 'Juan Hugo', 'Juanin Hugo', 'Marcelo Hugo']\n"
          ]
        }
      ]
    },
    {
      "cell_type": "markdown",
      "source": [
        "\n",
        "\n",
        "---\n",
        "\n"
      ],
      "metadata": {
        "id": "lkTopA_IkXO6"
      }
    },
    {
      "cell_type": "code",
      "source": [
        "ingredientes_amigos = [\n",
        "    ['Pan', 'Salchichas', 'Mostaza', 'Ketchup'], #ingr. amigo 1\n",
        "    ['Pan', 'Tomate', 'Chucrut'], #ingr. amigo 2\n",
        "    ['Ketchup','Salchichas'], #ingr. amigo 3\n",
        "    ['Chucrut', 'Pan'] #ingr. amigo 4\n",
        "]\n",
        "ingredientes_favoritos = ['Pan', 'Tomate', 'Salchichas', 'Chucrut', 'Mostaza', 'Ketchup', 'Mayonesa', 'Palta']\n",
        "\n",
        "for amigo in ingredientes_amigos:\n",
        "    for ingrediente in amigo:\n",
        "        if ingrediente in ingredientes_favoritos:\n",
        "            ingredientes_favoritos.remove(ingrediente)\n",
        "print(ingredientes_favoritos)\n"
      ],
      "metadata": {
        "colab": {
          "base_uri": "https://localhost:8080/"
        },
        "id": "KlMyA_c9kWyt",
        "outputId": "a2b601a8-6aa8-47b8-c0f7-d13ed11fe952"
      },
      "execution_count": 14,
      "outputs": [
        {
          "output_type": "stream",
          "name": "stdout",
          "text": [
            "['Mayonesa', 'Palta']\n"
          ]
        }
      ]
    },
    {
      "cell_type": "markdown",
      "source": [
        "\n",
        "\n",
        "---\n",
        "\n"
      ],
      "metadata": {
        "id": "up3217T-kEGQ"
      }
    },
    {
      "cell_type": "code",
      "source": [
        "lista = [[-1, 2, -5, 40],\n",
        "         [9, 65, -6, -34],\n",
        "         [0, -4, 9, 2]\n",
        "        ]\n",
        "\n",
        "fils = len(lista)\n",
        "cols = len(lista[0])\n",
        "for i in range( fils ):\n",
        "    for k in range( cols ):\n",
        "        if lista[i][k] < 0:\n",
        "            lista[i][k] = 0\n",
        "\n",
        "\n",
        "print(lista)"
      ],
      "metadata": {
        "colab": {
          "base_uri": "https://localhost:8080/"
        },
        "id": "8XFFAjGrkDu1",
        "outputId": "420eaa40-0c6d-44ff-d63a-afcd6f96f535"
      },
      "execution_count": 13,
      "outputs": [
        {
          "output_type": "stream",
          "name": "stdout",
          "text": [
            "[[0, 2, 0, 40], [9, 65, 0, 0], [0, 0, 9, 2]]\n"
          ]
        }
      ]
    },
    {
      "cell_type": "markdown",
      "source": [
        "\n",
        "\n",
        "---\n",
        "\n"
      ],
      "metadata": {
        "id": "CyDYUyMekCV1"
      }
    },
    {
      "cell_type": "code",
      "source": [
        "votos = [['Alicia', 35],\n",
        "         ['Bob', 42],\n",
        "         ['Carlos', 29],\n",
        "         ['David', 33]\n",
        "]\n",
        "\n",
        "mejor = ['', 0]\n",
        "for candidato in votos:\n",
        "    if candidato[1] > mejor[1]:\n",
        "        mejor = candidato\n",
        "print(mejor[0])\n"
      ],
      "metadata": {
        "colab": {
          "base_uri": "https://localhost:8080/"
        },
        "id": "x_G7pURBjrxP",
        "outputId": "a58d894a-e99e-4b59-9093-77930d091d9d"
      },
      "execution_count": 11,
      "outputs": [
        {
          "output_type": "stream",
          "name": "stdout",
          "text": [
            "Bob\n"
          ]
        }
      ]
    },
    {
      "cell_type": "markdown",
      "source": [
        "\n",
        "\n",
        "---\n",
        "\n"
      ],
      "metadata": {
        "id": "RphmdbXwjtzG"
      }
    },
    {
      "cell_type": "code",
      "source": [
        "lista = ['Alicia', 'Bob', 'Carlos', 'David']\n",
        "\n",
        "for i in range( len(lista) ):\n",
        "    ultimo_cliente = len(lista) - i\n",
        "    cliente = lista[ ultimo_cliente ]\n",
        "    print(cliente)"
      ],
      "metadata": {
        "collapsed": true,
        "colab": {
          "base_uri": "https://localhost:8080/",
          "height": 193
        },
        "id": "JUeUvoQ0iUVu",
        "outputId": "a7be68a1-8a99-4480-f038-1d2c5e5109ee"
      },
      "execution_count": 6,
      "outputs": [
        {
          "output_type": "error",
          "ename": "IndexError",
          "evalue": "list index out of range",
          "traceback": [
            "\u001b[0;31m---------------------------------------------------------------------------\u001b[0m",
            "\u001b[0;31mIndexError\u001b[0m                                Traceback (most recent call last)",
            "\u001b[0;32m<ipython-input-6-a5c37bc333e1>\u001b[0m in \u001b[0;36m<cell line: 3>\u001b[0;34m()\u001b[0m\n\u001b[1;32m      3\u001b[0m \u001b[0;32mfor\u001b[0m \u001b[0mi\u001b[0m \u001b[0;32min\u001b[0m \u001b[0mrange\u001b[0m\u001b[0;34m(\u001b[0m \u001b[0mlen\u001b[0m\u001b[0;34m(\u001b[0m\u001b[0mlista\u001b[0m\u001b[0;34m)\u001b[0m \u001b[0;34m)\u001b[0m\u001b[0;34m:\u001b[0m\u001b[0;34m\u001b[0m\u001b[0;34m\u001b[0m\u001b[0m\n\u001b[1;32m      4\u001b[0m     \u001b[0multimo_cliente\u001b[0m \u001b[0;34m=\u001b[0m \u001b[0mlen\u001b[0m\u001b[0;34m(\u001b[0m\u001b[0mlista\u001b[0m\u001b[0;34m)\u001b[0m \u001b[0;34m-\u001b[0m \u001b[0mi\u001b[0m\u001b[0;34m\u001b[0m\u001b[0;34m\u001b[0m\u001b[0m\n\u001b[0;32m----> 5\u001b[0;31m     \u001b[0mcliente\u001b[0m \u001b[0;34m=\u001b[0m \u001b[0mlista\u001b[0m\u001b[0;34m[\u001b[0m \u001b[0multimo_cliente\u001b[0m \u001b[0;34m]\u001b[0m\u001b[0;34m\u001b[0m\u001b[0;34m\u001b[0m\u001b[0m\n\u001b[0m\u001b[1;32m      6\u001b[0m     \u001b[0mprint\u001b[0m\u001b[0;34m(\u001b[0m\u001b[0mcliente\u001b[0m\u001b[0;34m)\u001b[0m\u001b[0;34m\u001b[0m\u001b[0;34m\u001b[0m\u001b[0m\n",
            "\u001b[0;31mIndexError\u001b[0m: list index out of range"
          ]
        }
      ]
    },
    {
      "cell_type": "code",
      "source": [],
      "metadata": {
        "id": "Teq0e-fBjnR5"
      },
      "execution_count": null,
      "outputs": []
    },
    {
      "cell_type": "code",
      "source": [
        "d = ['Alicia', 'Bob', 'Carlos', 'David']    # lista de dueños\n",
        "m = ['Pelusa', 'Luke', 'Mickey', 'Madonna'] # lista de mascotas\n",
        "\n",
        "for i in range(len(d)):\n",
        "    print(d[i], m[i])"
      ],
      "metadata": {
        "collapsed": true,
        "colab": {
          "base_uri": "https://localhost:8080/"
        },
        "id": "wz4VluxwjTY7",
        "outputId": "6c99bdb2-dc85-455e-9c1f-1672da70c7b4"
      },
      "execution_count": 7,
      "outputs": [
        {
          "output_type": "stream",
          "name": "stdout",
          "text": [
            "Alicia Pelusa\n",
            "Bob Luke\n",
            "Carlos Mickey\n",
            "David Madonna\n"
          ]
        }
      ]
    },
    {
      "cell_type": "code",
      "source": [
        "lista = ['soleado', 'nublado', 'soleado', 'lluvia', 2.4, 'lluvia', 0.1, 'nublado', 'lluvia', 0.8]\n",
        "\n",
        "suma = 0\n",
        "for i in lista:\n",
        "    if i not in ['soleado','nublado','lluvia']:\n",
        "        suma += i\n",
        "print(suma)"
      ],
      "metadata": {
        "collapsed": true,
        "colab": {
          "base_uri": "https://localhost:8080/"
        },
        "id": "83opqXtZjdJR",
        "outputId": "88d04f9f-201b-4685-ed69-1c4321aa8fba"
      },
      "execution_count": 8,
      "outputs": [
        {
          "output_type": "stream",
          "name": "stdout",
          "text": [
            "3.3\n"
          ]
        }
      ]
    }
  ],
  "metadata": {
    "colab": {
      "name": "Datos externos: archivos locales, Drive, Hojas de cálculo y Cloud Storage 2",
      "toc_visible": true,
      "provenance": [],
      "include_colab_link": true
    },
    "kernelspec": {
      "display_name": "Python 3",
      "name": "python3"
    }
  },
  "nbformat": 4,
  "nbformat_minor": 0
}