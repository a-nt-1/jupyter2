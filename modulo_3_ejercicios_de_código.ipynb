{
  "cells": [
    {
      "cell_type": "markdown",
      "metadata": {
        "id": "view-in-github",
        "colab_type": "text"
      },
      "source": [
        "<a href=\"https://colab.research.google.com/github/a-nt-1/jupyter2/blob/main/modulo_3_ejercicios_de_c%C3%B3digo.ipynb\" target=\"_parent\"><img src=\"https://colab.research.google.com/assets/colab-badge.svg\" alt=\"Open In Colab\"/></a>"
      ]
    },
    {
      "cell_type": "markdown",
      "source": [
        "Ejercicio 1\n",
        "\n",
        "Pregunta 1\n",
        "Tienes una lista de listas con información de vuelos:\n",
        "\n",
        "\n",
        "1234567\n",
        "vuelos = [ ['Origen', 'Destino', 'precio', 'asientos disponibles', 'Fecha'],\n",
        "['Santiago', 'Puerto Montt', 35000, 30, '11 Enero 2023'],\n",
        "['Santiago', 'Concepción', 30000, 40, '20 Febrero 2023'],\n",
        "['Santiago', 'Puerto Montt', 28000, 2, '19 Enero 2023'],\n",
        "['Santiago', 'Puerto Montt', 12000, 100, '20 Mayo 2023'],\n",
        "['Antofagasta', 'Santiago', 27000, 14, '18 Abril 2023' ]\n",
        "]\n",
        "Nota: El primer elemento de la lista es el header, y no contiene información de ningún vuelo. El header se utiliza para representar qué información está en cada elemento de las listas.\n",
        "\n",
        "Debes definir una función vuelos_disponibles(vuelos, origen, destino, pasajeros), la cual recibe una lista con la información de todos los vuelos, dos strings, uno con la ciudad de origen y otro con la ciudad de destino, y por último un entero con el número de pasajeros con los que quieres viajar. La función deberá retornar una lista con todos los vuelos que vayan desde la ciudad de origen al destino que tengan suficientes asientos disponibles para todos los pasajeros.\n",
        "\n",
        "Por ejemplo, si se llama la función vuelos_disponibles(vuelos, 'Santiago', 'Puerto Montt', 5), con vuelos la lista vuelos definida anteriormente, entonces la función deberá retornar:\n",
        "\n",
        "\n",
        "12345\n",
        "[\n",
        "['Origen', 'Destino', 'precio', 'asientos disponibles', 'Fecha'],\n",
        "['Santiago', 'Puerto Montt', 35000, 30, '11 Enero 2023'],\n",
        "['Santiago', 'Puerto Montt', 12000, 100, '20 Mayo 2023']\n",
        "]\n",
        "Puedes asumir que el header va a ser siempre el mismo."
      ],
      "metadata": {
        "id": "RtwdHXbVmzq4"
      }
    },
    {
      "cell_type": "code",
      "source": [
        "vuelos = [ ['Origen', 'Destino', 'precio', 'asientos disponibles', 'Fecha'],\n",
        "['Santiago', 'Puerto Montt', 35000, 30, '11 Enero 2023'],\n",
        "['Santiago', 'Concepción', 30000, 40, '20 Febrero 2023'],\n",
        "['Santiago', 'Puerto Montt', 28000, 2, '19 Enero 2023'],\n",
        "['Santiago', 'Puerto Montt', 12000, 100, '20 Mayo 2023'],\n",
        "['Antofagasta', 'Santiago', 27000, 14, '18 Abril 2023' ]\n",
        "]\n",
        "\n",
        "def vuelos_disponibles(vuelos, origen, destino, pasajeros):\n",
        "  vuelos_disponibles = []\n",
        "  cabecera = vuelos[0]\n",
        "  vuelos_disponibles.append(cabecera)\n",
        "  #vuelos = vuelos[1:]\n",
        "  for vuelo in vuelos:\n",
        "    if vuelo[0] == origen and vuelo[1] == destino and vuelo[3] >= pasajeros:\n",
        "      vuelos_disponibles.append(vuelo)\n",
        "  return vuelos_disponibles\n",
        "\n",
        "vuelos_disponibles(vuelos, 'Santiago', 'Puerto Montt', 5)\n"
      ],
      "metadata": {
        "colab": {
          "base_uri": "https://localhost:8080/"
        },
        "id": "Ze7gmywJjokH",
        "outputId": "8b53ffdf-2435-46ce-ff89-1cd431999097"
      },
      "execution_count": null,
      "outputs": [
        {
          "output_type": "execute_result",
          "data": {
            "text/plain": [
              "[['Origen', 'Destino', 'precio', 'asientos disponibles', 'Fecha'],\n",
              " ['Santiago', 'Puerto Montt', 35000, 30, '11 Enero 2023'],\n",
              " ['Santiago', 'Puerto Montt', 12000, 100, '20 Mayo 2023']]"
            ]
          },
          "metadata": {},
          "execution_count": 2
        }
      ]
    },
    {
      "cell_type": "markdown",
      "source": [
        "\n",
        "\n",
        "---\n",
        "\n"
      ],
      "metadata": {
        "id": "lkTopA_IkXO6"
      }
    },
    {
      "cell_type": "markdown",
      "source": [
        "Ejercicio 2\n",
        "\n",
        "Tienes una lista de listas con información de alumnos, esta lista contiene siempre como primer elemento un header que muestra donde se guarda cada información:\n",
        "\n",
        "\n",
        "12345\n",
        "lista = [\n",
        "['Nombre', 'Numero alumno', 'Correo', 'Nota final'],\n",
        "['Alicia', 16848, 'amartinez@gmail.com', 5.7],\n",
        "['Marco', 19845, 'marenas@gmail.com', 4.8]\n",
        "]\n",
        "Esta lista puede contener distinta información y en distinto orden, pero siempre va a tener al menos el nombre y la nota final. Por ejemplo, la lista también se podría ver como:\n",
        "\n",
        "\n",
        "12345678\n",
        "lista = [\n",
        "['Numero alumno', 'Nota final', 'Nombre', 'Color favorito'],\n",
        "[16848, 5.7, 'Alicia', 'Rojo'],\n",
        "[19845, 4.8, 'Marco', 'Verde'],\n",
        "[19515, 6.2, 'Federico', 'Azul']\n",
        "]\n",
        "\n",
        "\n",
        "Deberás definir una función notas_alumnos(lista), la cual recibe una lista de listas en el formato anterior. La función deberá retornar una lista de tuplas, donde cada tupla contiene el nombre de un estudiante y su nota final. Por ejemplo, para las listas anteriores tu función deberá retornar:\n",
        "\n",
        "\n",
        "1\n",
        "[('Alicia', 5.7), ('Marco', 4.8) ]\n",
        "y\n",
        "\n",
        "\n",
        "1\n",
        "[('Alicia', 5.7), ('Marco', 4.8), ('Federico', 6.2) ]\n",
        "Nota que los alumnos en la lista a retornar están en el mismo orden que estaban en la lista inicial. (primero Alicia, luego Marco y por último Federico)"
      ],
      "metadata": {
        "id": "Igwy5v2mmy_J"
      }
    },
    {
      "cell_type": "code",
      "source": [
        "lista = [\n",
        "['Numero alumno', 'Nota final', 'Nombre', 'Color favorito'],\n",
        "[16848, 5.7, 'Alicia', 'Rojo'],\n",
        "[19845, 4.8, 'Marco', 'Verde'],\n",
        "[19515, 6.2, 'Federico', 'Azul']\n",
        "]\n",
        "\n",
        "def notas_alumnos(lista):\n",
        "  notas_alumnos = []\n",
        "  cabecera = lista[0]\n",
        "  indice_nombre = cabecera.index('Nombre')\n",
        "  indice_nota = cabecera.index('Nota final')\n",
        "  #notas_alumnos[0]=[\"Nombre\",'Nota final']\n",
        "  for alumno in lista[1:]:\n",
        "    nombre = alumno[indice_nombre]\n",
        "    nota = alumno[indice_nota]\n",
        "    notas_alumnos.append((nombre, nota))\n",
        "  tupla_notas=(notas_alumnos)\n",
        "  return tupla_notas\n",
        "\n",
        "notas_alumnos(lista)\n",
        "\n",
        "\n"
      ],
      "metadata": {
        "colab": {
          "base_uri": "https://localhost:8080/"
        },
        "id": "DdPWVMOXjqfm",
        "outputId": "80321f06-e218-409c-a684-d077a7e8dcf6"
      },
      "execution_count": null,
      "outputs": [
        {
          "output_type": "execute_result",
          "data": {
            "text/plain": [
              "[('Alicia', 5.7), ('Marco', 4.8), ('Federico', 6.2)]"
            ]
          },
          "metadata": {},
          "execution_count": 1
        }
      ]
    },
    {
      "cell_type": "markdown",
      "source": [
        "\n",
        "\n",
        "---\n",
        "\n"
      ],
      "metadata": {
        "id": "up3217T-kEGQ"
      }
    },
    {
      "cell_type": "markdown",
      "source": [
        "Ejercicio 3\n",
        "\n",
        "Tienes una lista con información de países, esta información es el id (número que identifica al país), el nombre y la capital:\n",
        "\n",
        "\n",
        "123456\n",
        "paises = [\n",
        "[0, 'España', 'Madrid'],\n",
        "[2, 'Alemania', 'Berlin'],\n",
        "[1, 'Francia', 'Paris'],\n",
        "[3, 'Italia', 'Roma']\n",
        "]\n",
        "Además, tienes una lista con el índice de belleza de los países, según un comentarista de un canal de viajes. Esta lista contiene el id de cada pais, junto a un float entre 0 y 1 con su índice de belleza (un país con un índice más alto se considera más bello que un país con el índice más bajo)\n",
        "\n",
        "\n",
        "123456\n",
        "belleza = [\n",
        "[2, 0.57],\n",
        "[1, 0.81],\n",
        "[3, 0.68],\n",
        "[0, 0.62]\n",
        "]\n",
        "Nota que el índice de belleza pertenece al país con el mismo id en la lista países.\n",
        "\n",
        "Define la función paises_bellos(paises, belleza), que recibe como parámetro la lista paises y la lista belleza. La función deberá retornar una lista de tuplas, donde cada tupla contiene el nombre de un país y su índice de belleza. Además, las tuplas de esta lista deberán estar ordenadas de país más bellos a país menos bellos. Para las listas anteriores a función deberá retornar:\n",
        "\n",
        "\n",
        "12345\n",
        "[('Francia', 0.81),\n",
        "('Italia', 0.68),\n",
        "('España', 0.62),\n",
        "('Alemania', 0.57)\n",
        "]"
      ],
      "metadata": {
        "id": "TSMThkCrm5Z1"
      }
    },
    {
      "cell_type": "code",
      "source": [
        "\n",
        "paises = [\n",
        "[0, 'España', 'Madrid'],\n",
        "[2, 'Alemania', 'Berlin'],\n",
        "[1, 'Francia', 'Paris'],\n",
        "[3, 'Italia', 'Roma']\n",
        "]\n",
        "\n",
        "\n",
        "belleza = [\n",
        "[2, 0.57],\n",
        "[1, 0.81],\n",
        "[3, 0.68],\n",
        "[0, 0.62]\n",
        "]\n",
        "\n",
        "def paises_bellos(paises, belleza):\n",
        "  paises_bellos = []\n",
        "\n",
        "  for pais in paises:\n",
        "    id_pais = pais[0]\n",
        "    #print (id_pais)\n",
        "    nombre_pais = pais[1]\n",
        "    #print(nombre_pais)\n",
        "    for pais_bello in belleza:\n",
        "      if pais_bello[0] == id_pais:\n",
        "        belleza_pais = pais_bello[1]\n",
        "        #print(belleza_pais)\n",
        "\n",
        "    paises_bellos.append((nombre_pais, belleza_pais))\n",
        "\n",
        "  paises_bellos.sort(key=lambda x: x[1], reverse=True)\n",
        "\n",
        "  return paises_bellos\n",
        "\n",
        "print(paises_bellos(paises, belleza))\n"
      ],
      "metadata": {
        "colab": {
          "base_uri": "https://localhost:8080/"
        },
        "id": "kXPeZmUPjstj",
        "outputId": "8cf621b5-de73-45bf-ca94-ec535bb89801"
      },
      "execution_count": null,
      "outputs": [
        {
          "output_type": "stream",
          "name": "stdout",
          "text": [
            "0\n",
            "España\n",
            "0.62\n",
            "2\n",
            "Alemania\n",
            "0.57\n",
            "1\n",
            "Francia\n",
            "0.81\n",
            "3\n",
            "Italia\n",
            "0.68\n",
            "[('Francia', 0.81), ('Italia', 0.68), ('España', 0.62), ('Alemania', 0.57)]\n"
          ]
        }
      ]
    },
    {
      "cell_type": "markdown",
      "source": [
        "\n",
        "\n",
        "---\n",
        "\n"
      ],
      "metadata": {
        "id": "CyDYUyMekCV1"
      }
    },
    {
      "cell_type": "markdown",
      "source": [
        "\n",
        "\n",
        "---\n",
        "\n"
      ],
      "metadata": {
        "id": "RphmdbXwjtzG"
      }
    }
  ],
  "metadata": {
    "colab": {
      "name": "modulo 3 ejercicios de código",
      "toc_visible": true,
      "provenance": [],
      "include_colab_link": true
    },
    "kernelspec": {
      "display_name": "Python 3",
      "name": "python3"
    }
  },
  "nbformat": 4,
  "nbformat_minor": 0
}