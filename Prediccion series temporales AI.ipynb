{
 "cells": [
  {
   "cell_type": "code",
   "execution_count": null,
   "id": "50f4088d",
   "metadata": {},
   "outputs": [],
   "source": [
    "# Importamos las librerías necesarias\n",
    "import pandas as pd\n",
    "import numpy as np\n",
    "import matplotlib.pyplot as plt\n",
    "import seaborn as sns\n",
    "from statsmodels.tsa.seasonal import seasonal_decompose\n",
    "from sklearn.model_selection import train_test_split\n",
    "from sklearn.preprocessing import StandardScaler\n",
    "from sklearn.linear_model import LinearRegression\n",
    "from sklearn.metrics import mean_squared_error\n",
    "import warnings\n",
    "warnings.filterwarnings('ignore')"
   ]
  },
  {
   "cell_type": "markdown",
   "id": "b0a02bfc",
   "metadata": {},
   "source": [
    "### 1. Carga de Datos\n",
    "Para este ejemplo, vamos a simular datos de una serie temporal."
   ]
  },
  {
   "cell_type": "code",
   "execution_count": null,
   "id": "ac2346b6",
   "metadata": {},
   "outputs": [],
   "source": [
    "np.random.seed(42)\n",
    "date_rng = pd.date_range(start='1/1/2020', end='31/12/2023', freq='D')\n",
    "df = pd.DataFrame(date_rng, columns=['date'])\n",
    "df['var1'] = np.random.randn(len(date_rng)) * 10\n",
    "df['var2'] = np.random.randn(len(date_rng)) * 20\n",
    "df['var3'] = np.random.randn(len(date_rng)) * 30\n",
    "df['var4'] = np.random.randn(len(date_rng)) * 40\n",
    "df['var5'] = np.random.randn(len(date_rng)) * 50\n",
    "df['var6'] = np.random.randn(len(date_rng)) * 60\n",
    "df.set_index('date', inplace=True)"
   ]
  },
  {
   "cell_type": "markdown",
   "id": "10d1ac8c",
   "metadata": {},
   "source": [
    "### 2. Análisis Exploratorio de Datos (EDA)"
   ]
  },
  {
   "cell_type": "code",
   "execution_count": null,
   "id": "19641cb0",
   "metadata": {},
   "outputs": [],
   "source": [
    "# Visualizamos las primeras filas del DataFrame\n",
    "print(\"Primeras filas del DataFrame:\")\n",
    "print(df.head())\n",
    "\n",
    "# Descripción estadística de los datos\n",
    "print(\"\\nDescripción estadística:\")\n",
    "print(df.describe())\n",
    "\n",
    "# Visualización de las series temporales\n",
    "plt.figure(figsize=(15, 10))\n",
    "for i, col in enumerate(df.columns):\n",
    "    plt.subplot(3, 2, i+1)\n",
    "    plt.plot(df[col])\n",
    "    plt.title(col)\n",
    "plt.tight_layout()\n",
    "plt.show()"
   ]
  },
  {
   "cell_type": "markdown",
   "id": "e562f591",
   "metadata": {},
   "source": [
    "### 3. Descomposición de la Serie Temporal"
   ]
  },
  {
   "cell_type": "code",
   "execution_count": null,
   "id": "6f7a7116",
   "metadata": {},
   "outputs": [],
   "source": [
    "# Descomponemos la serie temporal para analizar tendencia, estacionalidad y residuales\n",
    "result = seasonal_decompose(df['var1'], model='additive', period=365)\n",
    "result.plot()\n",
    "plt.show()"
   ]
  },
  {
   "cell_type": "markdown",
   "id": "63ed7d26",
   "metadata": {},
   "source": [
    "### 4. Preprocesamiento de Datos"
   ]
  },
  {
   "cell_type": "code",
   "execution_count": null,
   "id": "03ba4c0f",
   "metadata": {},
   "outputs": [],
   "source": [
    "# Normalizamos los datos para el modelo de predicción\n",
    "scaler = StandardScaler()\n",
    "scaled_df = scaler.fit_transform(df)\n",
    "\n",
    "# Convertimos el array normalizado de nuevo a DataFrame\n",
    "scaled_df = pd.DataFrame(scaled_df, columns=df.columns, index=df.index)\n",
    "\n",
    "# División en conjunto de entrenamiento y prueba\n",
    "train_size = int(len(scaled_df) * 0.8)\n",
    "train_df, test_df = scaled_df[:train_size], scaled_df[train_size:]"
   ]
  },
  {
   "cell_type": "markdown",
   "id": "2a037f8b",
   "metadata": {},
   "source": [
    "### 5. Creación de un Modelo de Predicción\n",
    "Para simplificar, usaremos un modelo de regresión lineal. Nuestro objetivo será predecir 'var1' en función de las otras variables."
   ]
  },
  {
   "cell_type": "code",
   "execution_count": null,
   "id": "c96cfde2",
   "metadata": {},
   "outputs": [],
   "source": [
    "# División en variables independientes (X) y dependiente (y)\n",
    "X_train, y_train = train_df.drop('var1', axis=1), train_df['var1']\n",
    "X_test, y_test = test_df.drop('var1', axis=1), test_df['var1']\n",
    "\n",
    "# Creación y entrenamiento del modelo\n",
    "model = LinearRegression()\n",
    "model.fit(X_train, y_train)\n",
    "\n",
    "# Predicción\n",
    "y_pred = model.predict(X_test)"
   ]
  },
  {
   "cell_type": "markdown",
   "id": "d5930633",
   "metadata": {},
   "source": [
    "### 6. Evaluación del Modelo"
   ]
  },
  {
   "cell_type": "code",
   "execution_count": null,
   "id": "5ec0206c",
   "metadata": {},
   "outputs": [],
   "source": [
    "# Calculamos el error cuadrático medio (MSE) y el coeficiente de determinación (R²)\n",
    "mse = mean_squared_error(y_test, y_pred)\n",
    "r2 = model.score(X_test, y_test)\n",
    "\n",
    "print(f\"Mean Squared Error: {mse}\")\n",
    "print(f\"R² Score: {r2}\")\n",
    "\n",
    "# Visualización de la predicción\n",
    "plt.figure(figsize=(10, 5))\n",
    "plt.plot(y_test.values, label='Actual')\n",
    "plt.plot(y_pred, label='Predicted')\n",
    "plt.legend()\n",
    "plt.title('Actual vs Predicted')\n",
    "plt.show()"
   ]
  }
 ],
 "metadata": {
  "kernelspec": {
   "display_name": "Python 3",
   "language": "python",
   "name": "python3"
  },
  "language_info": {
   "codemirror_mode": {
    "name": "ipython",
    "version": 3
   },
   "file_extension": ".py",
   "mimetype": "text/x-python",
   "name": "python",
   "nbconvert_exporter": "python",
   "pygments_lexer": "ipython3",
   "version": "3.8.8"
  }
 },
 "nbformat": 4,
 "nbformat_minor": 5
}

