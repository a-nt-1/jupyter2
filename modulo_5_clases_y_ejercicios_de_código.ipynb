{
  "cells": [
    {
      "cell_type": "markdown",
      "metadata": {
        "id": "view-in-github",
        "colab_type": "text"
      },
      "source": [
        "<a href=\"https://colab.research.google.com/github/a-nt-1/jupyter2/blob/main/modulo_5_clases_y_ejercicios_de_c%C3%B3digo.ipynb\" target=\"_parent\"><img src=\"https://colab.research.google.com/assets/colab-badge.svg\" alt=\"Open In Colab\"/></a>"
      ]
    },
    {
      "cell_type": "markdown",
      "source": [
        "## **IPYNB para los ejercicios y ejemplos del curso de python**\n",
        "\n"
      ],
      "metadata": {
        "id": "WHLUcT3kWIbQ"
      }
    },
    {
      "cell_type": "markdown",
      "source": [
        "A continuación dejo varias celdas para las pruebas de los ejemplos de los videos del curso"
      ],
      "metadata": {
        "id": "riF-sK6YWRL1"
      }
    },
    {
      "cell_type": "code",
      "source": [],
      "metadata": {
        "id": "D520IJreWQ0z"
      },
      "execution_count": null,
      "outputs": []
    },
    {
      "cell_type": "code",
      "source": [],
      "metadata": {
        "id": "U8bG-GrSWH2k"
      },
      "execution_count": null,
      "outputs": []
    },
    {
      "cell_type": "markdown",
      "source": [
        "# **A continuación vienen los ejercicios  de cada módulo**"
      ],
      "metadata": {
        "id": "KVE59IKGWX7_"
      }
    },
    {
      "cell_type": "markdown",
      "source": [
        "Ejercicio 1\n",
        "\n"
      ],
      "metadata": {
        "id": "RtwdHXbVmzq4"
      }
    },
    {
      "cell_type": "code",
      "source": [
        "\n"
      ],
      "metadata": {
        "id": "Ze7gmywJjokH"
      },
      "execution_count": null,
      "outputs": []
    },
    {
      "cell_type": "markdown",
      "source": [
        "\n",
        "\n",
        "---\n",
        "\n"
      ],
      "metadata": {
        "id": "lkTopA_IkXO6"
      }
    },
    {
      "cell_type": "markdown",
      "source": [
        "Ejercicio 2\n",
        "\n"
      ],
      "metadata": {
        "id": "Igwy5v2mmy_J"
      }
    },
    {
      "cell_type": "code",
      "source": [
        "\n",
        "\n"
      ],
      "metadata": {
        "colab": {
          "base_uri": "https://localhost:8080/"
        },
        "id": "DdPWVMOXjqfm",
        "outputId": "80321f06-e218-409c-a684-d077a7e8dcf6"
      },
      "execution_count": null,
      "outputs": [
        {
          "output_type": "execute_result",
          "data": {
            "text/plain": [
              "[('Alicia', 5.7), ('Marco', 4.8), ('Federico', 6.2)]"
            ]
          },
          "metadata": {},
          "execution_count": 1
        }
      ]
    },
    {
      "cell_type": "markdown",
      "source": [
        "\n",
        "\n",
        "---\n",
        "\n"
      ],
      "metadata": {
        "id": "up3217T-kEGQ"
      }
    },
    {
      "cell_type": "markdown",
      "source": [
        "Ejercicio 3\n",
        "\n"
      ],
      "metadata": {
        "id": "TSMThkCrm5Z1"
      }
    },
    {
      "cell_type": "code",
      "source": [],
      "metadata": {
        "colab": {
          "base_uri": "https://localhost:8080/"
        },
        "id": "kXPeZmUPjstj",
        "outputId": "8cf621b5-de73-45bf-ca94-ec535bb89801"
      },
      "execution_count": null,
      "outputs": [
        {
          "output_type": "stream",
          "name": "stdout",
          "text": [
            "0\n",
            "España\n",
            "0.62\n",
            "2\n",
            "Alemania\n",
            "0.57\n",
            "1\n",
            "Francia\n",
            "0.81\n",
            "3\n",
            "Italia\n",
            "0.68\n",
            "[('Francia', 0.81), ('Italia', 0.68), ('España', 0.62), ('Alemania', 0.57)]\n"
          ]
        }
      ]
    },
    {
      "cell_type": "markdown",
      "source": [
        "\n",
        "\n",
        "---\n",
        "\n"
      ],
      "metadata": {
        "id": "CyDYUyMekCV1"
      }
    },
    {
      "cell_type": "markdown",
      "source": [
        "\n",
        "\n",
        "---\n",
        "\n"
      ],
      "metadata": {
        "id": "RphmdbXwjtzG"
      }
    }
  ],
  "metadata": {
    "colab": {
      "name": "modulo 3 ejercicios de código",
      "toc_visible": true,
      "provenance": [],
      "include_colab_link": true
    },
    "kernelspec": {
      "display_name": "Python 3",
      "name": "python3"
    }
  },
  "nbformat": 4,
  "nbformat_minor": 0
}