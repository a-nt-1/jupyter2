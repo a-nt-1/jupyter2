{
  "cells": [
    {
      "cell_type": "markdown",
      "metadata": {
        "id": "view-in-github",
        "colab_type": "text"
      },
      "source": [
        "<a href=\"https://colab.research.google.com/github/a-nt-1/jupyter2/blob/main/modulo_4_clases_y_ejercicios_de_c%C3%B3digo.ipynb\" target=\"_parent\"><img src=\"https://colab.research.google.com/assets/colab-badge.svg\" alt=\"Open In Colab\"/></a>"
      ]
    },
    {
      "cell_type": "markdown",
      "source": [
        "## **IPYNB para los ejercicios y ejemplos del curso de python**\n",
        "\n"
      ],
      "metadata": {
        "id": "WHLUcT3kWIbQ"
      }
    },
    {
      "cell_type": "markdown",
      "source": [
        "A continuación dejo varias celdas para las pruebas de los ejemplos de los videos del curso"
      ],
      "metadata": {
        "id": "riF-sK6YWRL1"
      }
    },
    {
      "cell_type": "code",
      "source": [
        "conjunto = set([1,1,1,1,1,1,22,2,2,2,2,2,2,3,4,5,6,7,8,9,10])\n",
        "print(conjunto)\n",
        "\n",
        "opciones = {'Si', 'No'}\n",
        "print(opciones)\n",
        "opciones.add('No se')\n",
        "print(opciones)\n",
        "\n",
        "\n",
        "lista = [1,2,3,4,5,6,7,8,9]\n",
        "#lista.pop(2)\n",
        "for i in range (0,len(lista),2):\n",
        "  #lista[i]=[lista[i],0]\n",
        "  lista.append([])\n",
        "\n",
        "print(lista)\n",
        "\n",
        "\n",
        "poema = ['Mis', 'pasos', 'en', 'esta', 'calle', 'Resuenan', 'En', 'otra', 'calle', 'Donde', 'Oigo', 'mis', 'pasos', 'Pasar', 'en', 'esta', 'calle', 'Donde', 'Sólo', 'es', 'real', 'la', 'niebla']\n",
        "prohibidas = set( ['calle', 'mis', 'pasos'] )\n",
        "\n",
        "poema = set(poema)\n",
        "poema = poema - prohibidas\n",
        "\n",
        "\n",
        "print(poema)\n",
        "\n"
      ],
      "metadata": {
        "colab": {
          "base_uri": "https://localhost:8080/"
        },
        "id": "D520IJreWQ0z",
        "outputId": "f8f8171b-a960-4ae1-f33a-9b3f8f6bcbbf"
      },
      "execution_count": 5,
      "outputs": [
        {
          "output_type": "stream",
          "name": "stdout",
          "text": [
            "{1, 2, 3, 4, 5, 6, 7, 8, 9, 10, 22}\n",
            "{'No', 'Si'}\n",
            "{'No', 'No se', 'Si'}\n",
            "[1, 2, 3, 4, 5, 6, 7, 8, 9, [], [], [], [], []]\n",
            "{'Sólo', 'otra', 'Mis', 'esta', 'la', 'Oigo', 'niebla', 'real', 'es', 'en', 'Pasar', 'Donde', 'En', 'Resuenan'}\n"
          ]
        }
      ]
    },
    {
      "cell_type": "code",
      "source": [
        "a1 = set(['Pan', 'Salchichas', 'Mostaza', 'Ketchup'])\n",
        "a2 = set(['Pan', 'Cebolla', 'Tomate', 'Chucrut'])\n",
        "a3 = set(['Ketchup','Salchichas', 'Aji'])\n",
        "a4 = set(['Chucrut', 'Pan'])\n",
        "\n",
        "ing_favoritos = set(['Pan', 'Tomate', 'Salchichas', 'Chucrut', 'Mostaza', 'Ketchup', 'Mayonesa', 'Palta'])\n",
        "\n",
        "faltantes = ing_favoritos - (a1 | a2 | a3 | a4)\n",
        "print(faltantes)\n",
        "\n",
        "lista = [1,2,1,1,5,6,4,4,4,6,7,5,1,1,7,7,7,2,1,2]\n",
        "\n",
        "d = dict()\n",
        "for num in set(lista):\n",
        "    d[num] = lista.count(num)\n",
        "print(d)\n",
        "\n",
        "clientes = {\n",
        "    'Alicia': (28, 'Chile', 1200),\n",
        "    'Bob': (45, 'Francia', 2000),\n",
        "    'Carlos': (30, 'Argentina', 500),\n",
        "    'David': (23, 'Inglaterra', 0)\n",
        "}\n",
        "for cliente in clientes:\n",
        "    edad, residencia, deuda = clientes[cliente]\n",
        "    if deuda > 1000:\n",
        "        print(cliente)\n",
        "\n",
        "\n",
        "amigos = {'Bob': ['Patricio', 'Calamardo', 'Arenita', 'Don Cangrejo'],\n",
        "    'Patricio': ['Bob', 'Calamardo'],\n",
        "    'Arenita': ['Bob'],\n",
        "    'Calamardo': [],\n",
        "    'Don Cangrejo': ['Bob', 'Calamardo']\n",
        "}\n",
        "{'Bob': 3,\n",
        "'Patricio': 1,\n",
        "'Arenita': 1,\n",
        "'Calamardo': 3,\n",
        "'Don Cangrejo': 1\n",
        "}\n",
        "otro = dict()\n",
        "for nombre in amigos:\n",
        "    otro[nombre] = 0\n",
        "for i in amigos:\n",
        "    lista_amigos = amigos[i]\n",
        "    for nombre in otro:\n",
        "        if nombre in lista_amigos:\n",
        "            otro[nombre] += 1\n",
        "print(otro)\n",
        "otro = dict()\n",
        "for nombre in amigos:\n",
        "    otro[nombre] = 0\n",
        "    for otro_nombre in amigos:\n",
        "        if nombre != otro_nombre and nombre in amigos[otro_nombre]:\n",
        "            otro[nombre] += 1\n",
        "print(otro)\n",
        "otro = dict()\n",
        "for nombre in amigos:\n",
        "    otro[nombre] = 0\n",
        "\n",
        "for lista_amigos in amigos.values():\n",
        "    for nombre in lista_amigos:\n",
        "        otro[nombre] += 1\n",
        "print(otro)\n",
        "\n",
        "\n",
        "clientes = [\n",
        "    \"Male\",\n",
        "    \"Male\",\n",
        "    \"N/A\",\n",
        "    \"Female\",\n",
        "    \"N/A\",\n",
        "    \"Female\",\n",
        "    \"Male\",\n",
        "    \"N/A\",\n",
        "    \"Female\",\n",
        "    \"Female\"\n",
        "]\n",
        "\n",
        "resumen = [0,0,0]\n",
        "\n",
        "generos = {\n",
        "    \"Male\": 0,\n",
        "    \"Female\": 1,\n",
        "    \"N/A\": 2\n",
        "}\n",
        "for cliente in clientes:\n",
        "    resumen[generos[cliente]] += 1\n",
        "\n",
        "\n",
        "print(resumen)\n"
      ],
      "metadata": {
        "colab": {
          "base_uri": "https://localhost:8080/"
        },
        "id": "U8bG-GrSWH2k",
        "outputId": "37ef47b4-004a-4c5d-cd4e-f66f362b58c9"
      },
      "execution_count": 27,
      "outputs": [
        {
          "output_type": "stream",
          "name": "stdout",
          "text": [
            "{'Mayonesa', 'Palta'}\n",
            "{1: 6, 2: 3, 4: 3, 5: 2, 6: 2, 7: 4}\n",
            "Alicia\n",
            "Bob\n",
            "{'Bob': 3, 'Patricio': 1, 'Arenita': 1, 'Calamardo': 3, 'Don Cangrejo': 1}\n",
            "{'Bob': 3, 'Patricio': 1, 'Arenita': 1, 'Calamardo': 3, 'Don Cangrejo': 1}\n",
            "{'Bob': 3, 'Patricio': 1, 'Arenita': 1, 'Calamardo': 3, 'Don Cangrejo': 1}\n",
            "[3, 4, 3]\n"
          ]
        }
      ]
    },
    {
      "cell_type": "markdown",
      "source": [
        "# **A continuación vienen los ejercicios  de cada módulo**"
      ],
      "metadata": {
        "id": "KVE59IKGWX7_"
      }
    },
    {
      "cell_type": "markdown",
      "source": [
        "Ejercicio 1\n",
        "\n"
      ],
      "metadata": {
        "id": "RtwdHXbVmzq4"
      }
    },
    {
      "cell_type": "code",
      "source": [
        "boletas = [{'fecha_compra' : '29-05-22',\n",
        "'precio' : 12000,\n",
        "'productos' : {'Chocolate': 1,\n",
        "'Mantequilla': 1,\n",
        "'Huevos': 12,\n",
        "'Pan' : 1}\n",
        "},\n",
        "{'fecha_compra' : '31-05-22',\n",
        "'precio' : 2400,\n",
        "'productos' : {'Pan': 1, 'Leche' : 2}\n",
        "},\n",
        "{'fecha_compra' : '01-06-22',\n",
        "'precio' : 3000,\n",
        "'productos' : {'Mantequilla': 2, 'Azucar' : 1}\n",
        "}\n",
        "]\n",
        "\n",
        "def precio_total(boletas):\n",
        "  precio_total = 0\n",
        "\n",
        "  for boleta in boletas:\n",
        "    precio_total += boleta['precio']\n",
        "    #print(precio_total)\n",
        "  return precio_total\n",
        "\n",
        "print(precio_total(boletas))\n",
        "\n",
        "def precio_mes(boletas):\n",
        "  meses ={}\n",
        "  for boleta in boletas:\n",
        "    mes = boleta['fecha_compra'][0:5]\n",
        "    if mes in meses:\n",
        "      meses[mes] += boleta['precio']\n",
        "    else:\n",
        "      meses[mes] = boleta['precio']\n",
        "  return meses\n",
        "\n",
        "print(precio_mes(boletas))\n",
        "\n",
        "\n",
        "def productos_frecuentes(boletas):\n",
        "  numero_de_compras = len(boletas)\n",
        "  mitad = numero_de_compras % 2\n",
        "  productos = {}\n",
        "\n",
        "  for boleta in boletas:\n",
        "    for productos_boleta in boleta['productos']:\n",
        "      for producto_boleta in productos_boleta:\n",
        "        print(producto_boleta)\n",
        "        if producto_boleta in productos:\n",
        "          productos[producto] += 1\n",
        "        else:\n",
        "          #print (boleta['productos'][producto_boleta])\n",
        "          #productos[producto] = boleta['productos'][producto_boleta]\n",
        "\n",
        "\n",
        "  for producto in productos:\n",
        "    if producto[1]<mitad:\n",
        "      productos.pop(producto)\n",
        "\n",
        "  return productos\n",
        "\n",
        "print(productos_frecuentes(boletas))\n",
        "\n",
        "\n",
        "\n",
        "\n"
      ],
      "metadata": {
        "colab": {
          "base_uri": "https://localhost:8080/",
          "height": 106
        },
        "id": "Ze7gmywJjokH",
        "outputId": "e436859f-5e38-4e6c-cc72-5de069644fbc"
      },
      "execution_count": 4,
      "outputs": [
        {
          "output_type": "error",
          "ename": "IndentationError",
          "evalue": "expected an indented block after 'else' statement on line 52 (<ipython-input-4-ad9ee4d51be9>, line 57)",
          "traceback": [
            "\u001b[0;36m  File \u001b[0;32m\"<ipython-input-4-ad9ee4d51be9>\"\u001b[0;36m, line \u001b[0;32m57\u001b[0m\n\u001b[0;31m    for producto in productos:\u001b[0m\n\u001b[0m    ^\u001b[0m\n\u001b[0;31mIndentationError\u001b[0m\u001b[0;31m:\u001b[0m expected an indented block after 'else' statement on line 52\n"
          ]
        }
      ]
    },
    {
      "cell_type": "markdown",
      "source": [
        "\n",
        "\n",
        "---\n",
        "\n"
      ],
      "metadata": {
        "id": "lkTopA_IkXO6"
      }
    },
    {
      "cell_type": "markdown",
      "source": [
        "Ejercicio 2\n",
        "\n"
      ],
      "metadata": {
        "id": "Igwy5v2mmy_J"
      }
    },
    {
      "cell_type": "code",
      "source": [
        "\n",
        "\n"
      ],
      "metadata": {
        "colab": {
          "base_uri": "https://localhost:8080/"
        },
        "id": "DdPWVMOXjqfm",
        "outputId": "80321f06-e218-409c-a684-d077a7e8dcf6"
      },
      "execution_count": null,
      "outputs": [
        {
          "output_type": "execute_result",
          "data": {
            "text/plain": [
              "[('Alicia', 5.7), ('Marco', 4.8), ('Federico', 6.2)]"
            ]
          },
          "metadata": {},
          "execution_count": 1
        }
      ]
    },
    {
      "cell_type": "markdown",
      "source": [
        "\n",
        "\n",
        "---\n",
        "\n"
      ],
      "metadata": {
        "id": "up3217T-kEGQ"
      }
    },
    {
      "cell_type": "markdown",
      "source": [
        "Ejercicio 3\n",
        "\n"
      ],
      "metadata": {
        "id": "TSMThkCrm5Z1"
      }
    },
    {
      "cell_type": "code",
      "source": [],
      "metadata": {
        "colab": {
          "base_uri": "https://localhost:8080/"
        },
        "id": "kXPeZmUPjstj",
        "outputId": "8cf621b5-de73-45bf-ca94-ec535bb89801"
      },
      "execution_count": null,
      "outputs": [
        {
          "output_type": "stream",
          "name": "stdout",
          "text": [
            "0\n",
            "España\n",
            "0.62\n",
            "2\n",
            "Alemania\n",
            "0.57\n",
            "1\n",
            "Francia\n",
            "0.81\n",
            "3\n",
            "Italia\n",
            "0.68\n",
            "[('Francia', 0.81), ('Italia', 0.68), ('España', 0.62), ('Alemania', 0.57)]\n"
          ]
        }
      ]
    },
    {
      "cell_type": "markdown",
      "source": [
        "\n",
        "\n",
        "---\n",
        "\n"
      ],
      "metadata": {
        "id": "CyDYUyMekCV1"
      }
    },
    {
      "cell_type": "markdown",
      "source": [
        "\n",
        "\n",
        "---\n",
        "\n"
      ],
      "metadata": {
        "id": "RphmdbXwjtzG"
      }
    }
  ],
  "metadata": {
    "colab": {
      "name": "modulo 3 ejercicios de código",
      "toc_visible": true,
      "provenance": [],
      "include_colab_link": true
    },
    "kernelspec": {
      "display_name": "Python 3",
      "name": "python3"
    }
  },
  "nbformat": 4,
  "nbformat_minor": 0
}